{
  "nbformat": 4,
  "nbformat_minor": 0,
  "metadata": {
    "colab": {
      "provenance": []
    },
    "kernelspec": {
      "name": "python3",
      "display_name": "Python 3"
    },
    "language_info": {
      "name": "python"
    }
  },
  "cells": [
    {
      "cell_type": "code",
      "execution_count": 1,
      "metadata": {
        "colab": {
          "base_uri": "https://localhost:8080/"
        },
        "id": "82QjSKGj5CZR",
        "outputId": "5fde9b69-03d0-4a34-cf94-00c0b073cde2"
      },
      "outputs": [
        {
          "output_type": "stream",
          "name": "stdout",
          "text": [
            "Mounted at /content/drive\n"
          ]
        }
      ],
      "source": [
        "from google.colab import drive\n",
        "drive.mount('/content/drive')"
      ]
    },
    {
      "cell_type": "code",
      "source": [
        "import pandas as pd\n",
        "df=pd.read_csv('/content/movies.csv')"
      ],
      "metadata": {
        "id": "MdupoSfP5QC5"
      },
      "execution_count": 5,
      "outputs": []
    },
    {
      "cell_type": "code",
      "source": [
        "# Print the first few rows\n",
        "print(\"First few rows of the dataset:\\n\", df.head())\n"
      ],
      "metadata": {
        "colab": {
          "base_uri": "https://localhost:8080/"
        },
        "id": "_xkFlDkj55mM",
        "outputId": "a376b618-b2c9-4a4b-8620-f593f15ea2ae"
      },
      "execution_count": 6,
      "outputs": [
        {
          "output_type": "stream",
          "name": "stdout",
          "text": [
            "First few rows of the dataset:\n",
            "                                              name rating      genre  year  \\\n",
            "0                                     The Shining      R      Drama  1980   \n",
            "1                                 The Blue Lagoon      R  Adventure  1980   \n",
            "2  Star Wars: Episode V - The Empire Strikes Back     PG     Action  1980   \n",
            "3                                       Airplane!     PG     Comedy  1980   \n",
            "4                                      Caddyshack      R     Comedy  1980   \n",
            "\n",
            "                        released  score      votes         director  \\\n",
            "0  June 13, 1980 (United States)    8.4   927000.0  Stanley Kubrick   \n",
            "1   July 2, 1980 (United States)    5.8    65000.0   Randal Kleiser   \n",
            "2  June 20, 1980 (United States)    8.7  1200000.0   Irvin Kershner   \n",
            "3   July 2, 1980 (United States)    7.7   221000.0     Jim Abrahams   \n",
            "4  July 25, 1980 (United States)    7.3   108000.0     Harold Ramis   \n",
            "\n",
            "                    writer            star         country      budget  \\\n",
            "0             Stephen King  Jack Nicholson  United Kingdom  19000000.0   \n",
            "1  Henry De Vere Stacpoole  Brooke Shields   United States   4500000.0   \n",
            "2           Leigh Brackett     Mark Hamill   United States  18000000.0   \n",
            "3             Jim Abrahams     Robert Hays   United States   3500000.0   \n",
            "4       Brian Doyle-Murray     Chevy Chase   United States   6000000.0   \n",
            "\n",
            "         gross             company  runtime  \n",
            "0   46998772.0        Warner Bros.    146.0  \n",
            "1   58853106.0   Columbia Pictures    104.0  \n",
            "2  538375067.0           Lucasfilm    124.0  \n",
            "3   83453539.0  Paramount Pictures     88.0  \n",
            "4   39846344.0      Orion Pictures     98.0  \n"
          ]
        }
      ]
    },
    {
      "cell_type": "code",
      "source": [
        "# Combining important features into a single string\n",
        "#  to handle missing values\n",
        "df['important_features'] = df['genre'].fillna('') + ' ' + df['director'].fillna('') + ' ' + df['star'].fillna('')\n"
      ],
      "metadata": {
        "id": "F_X5c56l6Ess"
      },
      "execution_count": 7,
      "outputs": []
    },
    {
      "cell_type": "code",
      "source": [
        "# Printing the new DataFrame with the combined features for verification\n",
        "print(\"Dataset with important features:\\n\", df[['name', 'important_features']].head())\n"
      ],
      "metadata": {
        "colab": {
          "base_uri": "https://localhost:8080/"
        },
        "id": "P9TV0tAU6OjF",
        "outputId": "478ed7a9-e5b2-4ebe-b2f7-ed19434ceeb6"
      },
      "execution_count": 8,
      "outputs": [
        {
          "output_type": "stream",
          "name": "stdout",
          "text": [
            "Dataset with important features:\n",
            "                                              name  \\\n",
            "0                                     The Shining   \n",
            "1                                 The Blue Lagoon   \n",
            "2  Star Wars: Episode V - The Empire Strikes Back   \n",
            "3                                       Airplane!   \n",
            "4                                      Caddyshack   \n",
            "\n",
            "                        important_features  \n",
            "0     Drama Stanley Kubrick Jack Nicholson  \n",
            "1  Adventure Randal Kleiser Brooke Shields  \n",
            "2        Action Irvin Kershner Mark Hamill  \n",
            "3          Comedy Jim Abrahams Robert Hays  \n",
            "4          Comedy Harold Ramis Chevy Chase  \n"
          ]
        }
      ]
    },
    {
      "cell_type": "code",
      "source": [
        "# Import the necessary class\n",
        "from sklearn.feature_extraction.text import TfidfVectorizer\n",
        "\n",
        "# Convert textual data to numerical data using TF-IDF\n",
        "tfidf = TfidfVectorizer(stop_words='english')\n",
        "tfidf_matrix = tfidf.fit_transform(df['important_features'])\n",
        "\n",
        "print(\"TF-IDF matrix shape:\", tfidf_matrix.shape)\n",
        "\n"
      ],
      "metadata": {
        "colab": {
          "base_uri": "https://localhost:8080/"
        },
        "id": "HNCaSzAQ6Vs8",
        "outputId": "95b1730f-bc77-41b4-9d37-ade93b119990"
      },
      "execution_count": 11,
      "outputs": [
        {
          "output_type": "stream",
          "name": "stdout",
          "text": [
            "TF-IDF matrix shape: (7668, 6090)\n"
          ]
        }
      ]
    },
    {
      "cell_type": "code",
      "source": [
        "from sklearn.metrics.pairwise import linear_kernel\n",
        "# Computing cosine similarity between movies\n",
        "cosine_sim = linear_kernel(tfidf_matrix, tfidf_matrix)\n",
        "\n",
        "# Print the shape of the cosine similarity matrix\n",
        "print(\"Cosine similarity matrix shape:\", cosine_sim.shape)\n",
        "\n"
      ],
      "metadata": {
        "colab": {
          "base_uri": "https://localhost:8080/"
        },
        "id": "ag4zo1at6yu_",
        "outputId": "94805884-0cfe-4e5a-ff8f-a85c0b431ac6"
      },
      "execution_count": 23,
      "outputs": [
        {
          "output_type": "stream",
          "name": "stdout",
          "text": [
            "Cosine similarity matrix shape: (7668, 7668)\n"
          ]
        }
      ]
    },
    {
      "cell_type": "code",
      "source": [],
      "metadata": {
        "id": "IKOQF0u08IJs"
      },
      "execution_count": null,
      "outputs": []
    },
    {
      "cell_type": "code",
      "source": [
        "def get_recommendations(title, cosine_sim=cosine_sim):\n",
        "    # Check if the movie title is in the dataset\n",
        "    if title not in df['name'].values:\n",
        "        return \"Movie was not found in the dataset.\"\n",
        "\n",
        "    # Get the index of the movie that matches the title\n",
        "    idx = df.index[df['name'] == title].tolist()[0]\n",
        "\n",
        "    # Get similarity scores for all movies with the given movie\n",
        "    sim_scores = list(enumerate(cosine_sim[idx]))\n",
        "\n",
        "    # Sort movies based on similarity scores\n",
        "    sim_scores = sorted(sim_scores, key=lambda x: x[1], reverse=True)\n",
        "\n",
        "    # Get indices of top 5 most similar movies (excluding the first one as it is the movie itself)\n",
        "    sim_scores = sim_scores[1:6]\n",
        "\n",
        "    # Extract movie indices\n",
        "    movie_indices = [i[0] for i in sim_scores]\n",
        "\n",
        "    # Return top 5 similar movies\n",
        "    return df['name'].iloc[movie_indices].tolist()\n",
        "\n",
        "\n"
      ],
      "metadata": {
        "id": "oR8nspFn7HTs"
      },
      "execution_count": 22,
      "outputs": []
    },
    {
      "cell_type": "code",
      "source": [
        "# Example usage: Get recommendations for a specific movie\n",
        "movie_title = \"The Evil Dead\"\n",
        "print(f\"Recommendations for '{movie_title}':\\n\", get_recommendations(movie_title))\n",
        "\n"
      ],
      "metadata": {
        "colab": {
          "base_uri": "https://localhost:8080/"
        },
        "id": "BcPoiR-H8L1h",
        "outputId": "dd8b53cd-2ae3-4244-9c87-56bf4e63a624"
      },
      "execution_count": 26,
      "outputs": [
        {
          "output_type": "stream",
          "name": "stdout",
          "text": [
            "Recommendations for 'The Evil Dead':\n",
            " ['Evil Dead II', 'Army of Darkness', 'A Simple Plan', 'For Love of the Game', 'Oz the Great and Powerful']\n"
          ]
        }
      ]
    },
    {
      "cell_type": "code",
      "source": [
        "# Test with another movie\n",
        "test_title = \"Das Boot\"  # can replace with another title\n",
        "print(f\"Recommendations for '{test_title}':\\n\", get_recommendations(test_title))"
      ],
      "metadata": {
        "colab": {
          "base_uri": "https://localhost:8080/"
        },
        "id": "0-deuWNu8Sh5",
        "outputId": "4d85f756-aad5-4025-a336-0599f709468d"
      },
      "execution_count": 27,
      "outputs": [
        {
          "output_type": "stream",
          "name": "stdout",
          "text": [
            "Recommendations for 'Das Boot':\n",
            " ['The NeverEnding Story', 'The Perfect Storm', 'Poseidon', 'In the Line of Fire', 'Troy']\n"
          ]
        }
      ]
    }
  ]
}